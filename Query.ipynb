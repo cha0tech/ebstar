{
 "cells": [
  {
   "cell_type": "code",
   "execution_count": 1,
   "id": "57cf05de",
   "metadata": {},
   "outputs": [],
   "source": [
    "from parser import parse_flights\n",
    "from pretty_print import print_flights\n",
    "from storage import Storage"
   ]
  },
  {
   "cell_type": "code",
   "execution_count": 2,
   "id": "6cde9bdb",
   "metadata": {},
   "outputs": [],
   "source": [
    "flights = parse_flights(Storage('flights.db').load_freshest())"
   ]
  },
  {
   "cell_type": "code",
   "execution_count": 3,
   "id": "89f6d0f5",
   "metadata": {
    "scrolled": false
   },
   "outputs": [
    {
     "name": "stdout",
     "output_type": "stream",
     "text": [
      "== Outbound\n",
      "2023-02-01 CPH (2023-02-01T06:40:00.000+01:00)->NRT (2023-02-02T10:05:00.000+09:00) duration=19:25 biz=4\n",
      "           CPH-FRA (LH833, 32N, 1:30), FRA-ZRH (LH1186, 32A, 0:50), ZRH-NRT (LX160, 77W, 13:05), \n",
      "2023-02-01 CPH (2023-02-01T07:55:00.000+01:00)->NRT (2023-02-02T10:05:00.000+09:00) duration=18:10 biz=4\n",
      "           CPH-ZRH (WX601, CR9, 1:45), ZRH-NRT (LX160, 77W, 13:05), \n",
      "2023-02-07 CPH (2023-02-07T07:55:00.000+01:00)->NRT (2023-02-08T10:05:00.000+09:00) duration=18:10 biz=4\n",
      "           CPH-ZRH (WX601, CR9, 1:45), ZRH-NRT (LX160, 77W, 13:05), \n",
      "2023-02-08 CPH (2023-02-08T07:55:00.000+01:00)->NRT (2023-02-09T10:05:00.000+09:00) duration=18:10 biz=4\n",
      "           CPH-ZRH (WX601, CR9, 1:45), ZRH-NRT (LX160, 77W, 13:05), \n",
      "2023-02-09 CPH (2023-02-09T07:55:00.000+01:00)->NRT (2023-02-10T10:05:00.000+09:00) duration=18:10 biz=6\n",
      "           CPH-ZRH (SK601, 32N, 1:45), ZRH-NRT (LX160, 77W, 13:05), \n",
      "2023-02-12 CPH (2023-02-12T13:50:00.000+01:00)->NRT (2023-02-13T15:50:00.000+09:00) duration=18:00 biz=2\n",
      "           CPH-BKK (TG951, 77W, 10:30), BKK-NRT (TG676, 77W, 5:50), \n",
      "2023-02-13 CPH (2023-02-13T18:05:00.000+01:00)->HND (2023-02-14T19:45:00.000+09:00) duration=17:40 biz=4\n",
      "           CPH-IST (TK1786, 321, 3:10), IST-HND (TK198, 77W, 10:55), \n",
      "== Inbound\n",
      "2023-02-02 NRT (2023-02-02T12:10:00.000+09:00)->CPH (2023-02-02T22:15:00.000+01:00) duration=18:05 biz=2\n",
      "           NRT-ZRH (LX161, 77W, 14:25), ZRH-CPH (SK610, 32N, 1:50), \n",
      "2023-02-09 NRT (2023-02-09T12:10:00.000+09:00)->CPH (2023-02-09T22:15:00.000+01:00) duration=18:05 biz=9\n",
      "           NRT-ZRH (LX161, 77W, 14:25), ZRH-CPH (SK610, 32N, 1:50), \n",
      "2023-02-12 HND (2023-02-12T18:45:00.000+09:00)->CPH (2023-02-13T13:20:00.000+01:00) duration=26:35 biz=2\n",
      "           HND-ORD (UA882, 789, 11:50), ORD-CPH (SK944, 333, 8:15), \n"
     ]
    }
   ],
   "source": [
    "def filter_flights(min_business_seats=0, origins=None, destinations=None):\n",
    "    res = [f for f in flights if f.businessSeats >= min_business_seats]\n",
    "    res = [f for f in res if origins is None or f.origin.airport in origins]\n",
    "    res = [f for f in res if destinations is None or f.destination.airport in destinations]\n",
    "    return res\n",
    "\n",
    "print('== Outbound')\n",
    "inbound = filter_flights(min_business_seats=2, origins={'CPH'}, destinations={'NRT', 'HND'})\n",
    "print_flights(inbound)\n",
    "\n",
    "print('== Inbound')\n",
    "inbound = filter_flights(min_business_seats=2, origins={'NRT', 'HND'}, destinations={'CPH'})\n",
    "print_flights(inbound)"
   ]
  },
  {
   "cell_type": "code",
   "execution_count": null,
   "id": "c15d667a",
   "metadata": {},
   "outputs": [],
   "source": []
  }
 ],
 "metadata": {
  "kernelspec": {
   "display_name": "Python 3 (ipykernel)",
   "language": "python",
   "name": "python3"
  },
  "language_info": {
   "codemirror_mode": {
    "name": "ipython",
    "version": 3
   },
   "file_extension": ".py",
   "mimetype": "text/x-python",
   "name": "python",
   "nbconvert_exporter": "python",
   "pygments_lexer": "ipython3",
   "version": "3.7.3"
  }
 },
 "nbformat": 4,
 "nbformat_minor": 5
}
